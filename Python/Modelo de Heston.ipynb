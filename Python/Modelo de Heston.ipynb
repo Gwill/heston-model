{
 "metadata": {
  "name": ""
 },
 "nbformat": 3,
 "nbformat_minor": 0,
 "worksheets": [
  {
   "cells": [
    {
     "cell_type": "code",
     "collapsed": false,
     "input": [
      "%matplotlib inline\n",
      "import numpy as np\n",
      "import pandas as pd\n",
      "import matplotlib.pyplot as plt"
     ],
     "language": "python",
     "metadata": {},
     "outputs": [],
     "prompt_number": 4
    },
    {
     "cell_type": "markdown",
     "metadata": {},
     "source": [
      "[bmf]: www.bmfbovespa.com.br"
     ]
    },
    {
     "cell_type": "heading",
     "level": 1,
     "metadata": {},
     "source": [
      "Modelo de Heston"
     ]
    },
    {
     "cell_type": "heading",
     "level": 2,
     "metadata": {},
     "source": [
      "Introdu\u00e7\u00e3o"
     ]
    },
    {
     "cell_type": "markdown",
     "metadata": {},
     "source": [
      "O Modelo de Heston \u00e9 um modelo de volatilide estoc\u00e1stica, pois assume que a vari\u00e2ncia de um ativo possui uma din\u00e2mica estoc\u00e1stica.\n",
      "\n",
      "> Heston, Steven L. (1993). \"A Closed-Form Solution for Options with Stochastic Volatility with Applications to Bond and Currency Options\". The Review of Financial Studies 6 (2): 327\u2013343. doi:10.1093/rfs/6.2.327. JSTOR 2962057.\n",
      "\n",
      "Aqui vamos ver como calibrar o modelo de Heston com dados reais obtidos no site da [BMF&Bovespa](bmf)."
     ]
    },
    {
     "cell_type": "heading",
     "level": 2,
     "metadata": {},
     "source": [
      "O Modelo"
     ]
    },
    {
     "cell_type": "markdown",
     "metadata": {},
     "source": [
      "O Modelo de Heston considera o seguinte sistema de equa\u00e7\u00f5es descreve a din\u00e2mica do ativo $S_t$ e de sua vari\u00e2ncia $v_t$\n",
      "\n",
      "$$\n",
      "\\begin{aligned}\n",
      "dS_t & = \\mu_t S_t dt + \\sqrt{v_t} S_t dW_{1,t} \\\\\\\\\n",
      "dv_t & = -\\lambda (v_t - \\bar{v}) S_t dt + \\eta \\sqrt{v_t} S_t dW_{2,t} \\\\\\\\\n",
      "\\langle dW_{1,t}, dW_{2,t}\\rangle & = \\rho dt\n",
      "\\end{aligned}\n",
      "$$\n",
      "\n",
      "onde $\\mu_t$ \u00e9 o termo de _drift_ do ativo e aqui vamos consider\u00e1-lo constante e igu\u00e1l a $r - q$ onde $r$ \u00e9 a taxa de juros livre de risco e $q$ \u00e9 a taxa de juros de cupom, que se $S_t$ \u00e9 uma taxa de c\u00e2mbio $q$ \u00e9 o cupom cambial e se \u00e9 uma a\u00e7\u00e3o \u00e9 o _dividend yield_. Os demais par\u00e2metros s\u00e3o do modelo de Heston: $\\lambda$ a velocidade de revers\u00e3o a m\u00e9dia, $\\bar{v}$ \u00e9 a vari\u00e2ncia de longo prazo e $\\eta$ \u00e9 a volatilidade da vari\u00e2ncia.\n",
      "\n",
      "Uma forma de estimar os par\u00e2metros do modelo \u00e9 utilizar as equa\u00e7\u00f5es acima para chegar ao modelo de apre\u00e7amento de op\u00e7\u00f5es europ\u00e9ias levando em conta a vari\u00e2ncia estoc\u00e1stica.\n",
      "Dessa maneira podemos utilizar os pre\u00e7os de op\u00e7\u00f5es l\u00edquidas para calibrar os par\u00e2metros do modelo.\n",
      "Uma outra abordagem seria tentar estimar os par\u00e2metros do modelo utilizando a s\u00e9rie temporal do ativo.\n",
      "Aqui vamos utilizar a primeira abordagem, a abordagem *neutra ao risco*."
     ]
    },
    {
     "cell_type": "code",
     "collapsed": false,
     "input": [
      "import _heston"
     ],
     "language": "python",
     "metadata": {},
     "outputs": [],
     "prompt_number": 1
    },
    {
     "cell_type": "code",
     "collapsed": false,
     "input": [
      "_heston.call()"
     ],
     "language": "python",
     "metadata": {},
     "outputs": [
      {
       "ename": "TypeError",
       "evalue": "function takes exactly 10 arguments (0 given)",
       "output_type": "pyerr",
       "traceback": [
        "\u001b[0;31m---------------------------------------------------------------------------\u001b[0m\n\u001b[0;31mTypeError\u001b[0m                                 Traceback (most recent call last)",
        "\u001b[0;32m<ipython-input-2-b1baa614349f>\u001b[0m in \u001b[0;36m<module>\u001b[0;34m()\u001b[0m\n\u001b[0;32m----> 1\u001b[0;31m \u001b[0m_heston\u001b[0m\u001b[0;34m.\u001b[0m\u001b[0mcall\u001b[0m\u001b[0;34m(\u001b[0m\u001b[0;34m)\u001b[0m\u001b[0;34m\u001b[0m\u001b[0m\n\u001b[0m",
        "\u001b[0;31mTypeError\u001b[0m: function takes exactly 10 arguments (0 given)"
       ]
      }
     ],
     "prompt_number": 2
    },
    {
     "cell_type": "code",
     "collapsed": false,
     "input": [
      "%run calibrateheston.py"
     ],
     "language": "python",
     "metadata": {},
     "outputs": [
      {
       "output_type": "stream",
       "stream": "stdout",
       "text": [
        "[  8.02779719e-02   3.48979668e-02   3.67324334e+01   5.35417900e+00\n",
        "   6.15562440e-01]\n"
       ]
      }
     ],
     "prompt_number": 4
    },
    {
     "cell_type": "code",
     "collapsed": false,
     "input": [
      "%who"
     ],
     "language": "python",
     "metadata": {},
     "outputs": [
      {
       "output_type": "stream",
       "stream": "stdout",
       "text": [
        "bsm\tfut_data\tfut_datafile\tfuts\thes\theston\theston_evaluate\ti\tk\t\n",
        "leastsq\tloadtxt\tnorm\tnp\tos\tp0\tparms\tplsq\tplt\t\n",
        "strikes\tsys\tterm\tterms\tvanilla\tvol_data\tvol_datafile\tvols\t\n"
       ]
      }
     ],
     "prompt_number": 5
    },
    {
     "cell_type": "code",
     "collapsed": false,
     "input": [
      "parms = plsq[0]\n",
      "\n",
      "import matplotlib.pyplot as plt\n",
      "\n",
      "hes = np.zeros(len(strikes))\n",
      "for i, k in enumerate(strikes):\n",
      "\thes[i] = _heston.ucall(futs[term], k, terms[term], parms[0], parms[1], parms[2], parms[3], parms[4])\n",
      "\n",
      "plt.plot(strikes, vanilla)"
     ],
     "language": "python",
     "metadata": {},
     "outputs": [
      {
       "metadata": {},
       "output_type": "pyout",
       "prompt_number": 6,
       "text": [
        "[<matplotlib.lines.Line2D at 0x109e40b50>]"
       ]
      }
     ],
     "prompt_number": 6
    },
    {
     "cell_type": "code",
     "collapsed": false,
     "input": [
      "plt.show()"
     ],
     "language": "python",
     "metadata": {},
     "outputs": [],
     "prompt_number": 7
    },
    {
     "cell_type": "code",
     "collapsed": false,
     "input": [
      "dict(a=1,b=2)"
     ],
     "language": "python",
     "metadata": {},
     "outputs": [
      {
       "metadata": {},
       "output_type": "pyout",
       "prompt_number": 8,
       "text": [
        "{'a': 1, 'b': 2}"
       ]
      }
     ],
     "prompt_number": 8
    },
    {
     "cell_type": "code",
     "collapsed": false,
     "input": [
      "import pandas as pd"
     ],
     "language": "python",
     "metadata": {},
     "outputs": [],
     "prompt_number": 9
    },
    {
     "cell_type": "code",
     "collapsed": false,
     "input": [
      "pd.DataFrame(data=plsq[0], index=['v', 'vbar', 'lambda', 'eta', 'rho'], columns=['parameters'])"
     ],
     "language": "python",
     "metadata": {},
     "outputs": [
      {
       "html": [
        "<div style=\"max-height:1000px;max-width:1500px;overflow:auto;\">\n",
        "<table border=\"1\" class=\"dataframe\">\n",
        "  <thead>\n",
        "    <tr style=\"text-align: right;\">\n",
        "      <th></th>\n",
        "      <th>parameters</th>\n",
        "    </tr>\n",
        "  </thead>\n",
        "  <tbody>\n",
        "    <tr>\n",
        "      <th>v</th>\n",
        "      <td>  0.080278</td>\n",
        "    </tr>\n",
        "    <tr>\n",
        "      <th>vbar</th>\n",
        "      <td>  0.034898</td>\n",
        "    </tr>\n",
        "    <tr>\n",
        "      <th>lambda</th>\n",
        "      <td> 36.732433</td>\n",
        "    </tr>\n",
        "    <tr>\n",
        "      <th>eta</th>\n",
        "      <td>  5.354179</td>\n",
        "    </tr>\n",
        "    <tr>\n",
        "      <th>rho</th>\n",
        "      <td>  0.615562</td>\n",
        "    </tr>\n",
        "  </tbody>\n",
        "</table>\n",
        "</div>"
       ],
       "metadata": {},
       "output_type": "pyout",
       "prompt_number": 20,
       "text": [
        "        parameters\n",
        "v         0.080278\n",
        "vbar      0.034898\n",
        "lambda   36.732433\n",
        "eta       5.354179\n",
        "rho       0.615562"
       ]
      }
     ],
     "prompt_number": 20
    },
    {
     "cell_type": "code",
     "collapsed": false,
     "input": [],
     "language": "python",
     "metadata": {},
     "outputs": [],
     "prompt_number": 20
    },
    {
     "cell_type": "code",
     "collapsed": false,
     "input": [],
     "language": "python",
     "metadata": {},
     "outputs": [],
     "prompt_number": 20
    },
    {
     "cell_type": "code",
     "collapsed": false,
     "input": [],
     "language": "python",
     "metadata": {},
     "outputs": []
    }
   ],
   "metadata": {}
  }
 ]
}