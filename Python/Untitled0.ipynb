{
 "metadata": {
  "name": "",
  "signature": "sha256:3ca7fa78a0d5b4e4d19a7d16a93f11ce0841b90295cc257cecb55aa92d660de0"
 },
 "nbformat": 3,
 "nbformat_minor": 0,
 "worksheets": [
  {
   "cells": [
    {
     "cell_type": "code",
     "collapsed": false,
     "input": [
      "%matplotlib inline\n",
      "import sys\n",
      "import os\n",
      "from scipy import loadtxt\n",
      "import numpy as np\n",
      "from numpy.linalg import norm\n",
      "import heston\n",
      "import _heston\n",
      "import bsm\n",
      "import pandas as pd"
     ],
     "language": "python",
     "metadata": {},
     "outputs": [],
     "prompt_number": 2
    },
    {
     "cell_type": "code",
     "collapsed": false,
     "input": [
      "fut_datafile = '20100526_USDBRL_FUT.txt'\n",
      "vol_datafile = '20100526_USDBRL_IMPVOL.txt'\n",
      "\n",
      "vol_data = loadtxt(vol_datafile)\n",
      "terms = vol_data[0,1:].T\n",
      "strikes = vol_data[1:,0]\n",
      "vols = vol_data[1:,1:]\n",
      "\n",
      "fut_data = loadtxt(fut_datafile)\n",
      "futs = fut_data[:,1]\n",
      "vanilla = np.zeros((len(strikes), 1))\n",
      "term = 1\n",
      "for i, k in enumerate(strikes):\n",
      "\t# for j, t in enumerate(terms):\n",
      "\tvanilla[i,0] = bsm.call(futs[term], k, terms[term], 0, vols[i,term], 0)"
     ],
     "language": "python",
     "metadata": {},
     "outputs": [],
     "prompt_number": 4
    },
    {
     "cell_type": "code",
     "collapsed": false,
     "input": [
      "def heston_evaluate(chromo):\n",
      "\t\"\"\"docstring for heston_evaluate\"\"\"\n",
      "\tv = chromo[0]\n",
      "\tvbar = chromo[1]\n",
      "\tlambd = chromo[2]\n",
      "\teta = chromo[3]\n",
      "\trho = chromo[4]\n",
      "\tdiffs = np.zeros(len(strikes)*1)\n",
      "\tn = 0\n",
      "\tfor i, k in enumerate(strikes):\n",
      "\t\t# for j, t in enumerate(terms):\n",
      "\t\tdiffs[n] = vanilla[i,0] - _heston.ucall(futs[term], k, terms[term], v, vbar, lambd, eta, rho)\n",
      "\t\tn += 1\n",
      "\tscore = norm(diffs)\n",
      "\t# print(score)\n",
      "\treturn diffs"
     ],
     "language": "python",
     "metadata": {},
     "outputs": [],
     "prompt_number": 6
    },
    {
     "cell_type": "code",
     "collapsed": false,
     "input": [
      "\n",
      "from scipy.optimize import leastsq\n",
      "p0 = (0.03940606,  0.03301662,  2.48004912,  0.56642651,  0.63548062)\n",
      "plsq = leastsq(heston_evaluate, p0)\n",
      "print(plsq[0])\n",
      "parms = plsq[0]\n"
     ],
     "language": "python",
     "metadata": {},
     "outputs": [
      {
       "output_type": "stream",
       "stream": "stdout",
       "text": [
        "[  8.05418590e-02   3.48954774e-02   3.68978773e+01   5.37741371e+00\n",
        "   6.15549407e-01]\n"
       ]
      }
     ],
     "prompt_number": 7
    },
    {
     "cell_type": "code",
     "collapsed": false,
     "input": [
      "import matplotlib.pyplot as plt\n",
      "\n",
      "hes = np.zeros(len(strikes))\n",
      "for i, k in enumerate(strikes):\n",
      "\thes[i] = _heston.ucall(futs[term], k, terms[term], parms[0], parms[1], parms[2], parms[3], parms[4])\n",
      "\n",
      "plt.plot(strikes, vanilla)\n",
      "plt.plot(strikes, hes, 'o')"
     ],
     "language": "python",
     "metadata": {},
     "outputs": [
      {
       "metadata": {},
       "output_type": "pyout",
       "prompt_number": 18,
       "text": [
        "[<matplotlib.lines.Line2D at 0x11d0dad50>]"
       ]
      },
      {
       "metadata": {},
       "output_type": "display_data",
       "png": "[encoded data removed]",
       "text": [
        "<matplotlib.figure.Figure at 0x11553f2d0>"
       ]
      }
     ],
     "prompt_number": 18
    },
    {
     "cell_type": "code",
     "collapsed": false,
     "input": [
      "vanilla = np.reshape(vanilla, (22,))\n",
      "plt.plot(strikes, vanilla - hes)"
     ],
     "language": "python",
     "metadata": {},
     "outputs": [
      {
       "metadata": {},
       "output_type": "pyout",
       "prompt_number": 26,
       "text": [
        "[<matplotlib.lines.Line2D at 0x11d357190>]"
       ]
      },
      {
       "metadata": {},
       "output_type": "display_data",
       "png": "[encoded data removed]",
       "text": [
        "<matplotlib.figure.Figure at 0x1191f2650>"
       ]
      }
     ],
     "prompt_number": 26
    },
    {
     "cell_type": "code",
     "collapsed": false,
     "input": [
      "plt.plot(strikes, 100*(vanilla - hes)/vanilla)"
     ],
     "language": "python",
     "metadata": {},
     "outputs": [
      {
       "metadata": {},
       "output_type": "pyout",
       "prompt_number": 28,
       "text": [
        "[<matplotlib.lines.Line2D at 0x11d4fdf10>]"
       ]
      },
      {
       "metadata": {},
       "output_type": "display_data",
       "png": "[encoded data removed]",
       "text": [
        "<matplotlib.figure.Figure at 0x11ba8a690>"
       ]
      }
     ],
     "prompt_number": 28
    },
    {
     "cell_type": "code",
     "collapsed": false,
     "input": [
      "pd.DataFrame(data=plsq[0], index=['v', 'vbar', 'lambda', 'eta', 'rho'], columns=['parameters'])"
     ],
     "language": "python",
     "metadata": {},
     "outputs": [
      {
       "html": [
        "<div style=\"max-height:1000px;max-width:1500px;overflow:auto;\">\n",
        "<table border=\"1\" class=\"dataframe\">\n",
        "  <thead>\n",
        "    <tr style=\"text-align: right;\">\n",
        "      <th></th>\n",
        "      <th>parameters</th>\n",
        "    </tr>\n",
        "  </thead>\n",
        "  <tbody>\n",
        "    <tr>\n",
        "      <th>v</th>\n",
        "      <td>  0.080542</td>\n",
        "    </tr>\n",
        "    <tr>\n",
        "      <th>vbar</th>\n",
        "      <td>  0.034895</td>\n",
        "    </tr>\n",
        "    <tr>\n",
        "      <th>lambda</th>\n",
        "      <td> 36.897877</td>\n",
        "    </tr>\n",
        "    <tr>\n",
        "      <th>eta</th>\n",
        "      <td>  5.377414</td>\n",
        "    </tr>\n",
        "    <tr>\n",
        "      <th>rho</th>\n",
        "      <td>  0.615549</td>\n",
        "    </tr>\n",
        "  </tbody>\n",
        "</table>\n",
        "</div>"
       ],
       "metadata": {},
       "output_type": "pyout",
       "prompt_number": 16,
       "text": [
        "        parameters\n",
        "v         0.080542\n",
        "vbar      0.034895\n",
        "lambda   36.897877\n",
        "eta       5.377414\n",
        "rho       0.615549"
       ]
      }
     ],
     "prompt_number": 16
    },
    {
     "cell_type": "code",
     "collapsed": false,
     "input": [],
     "language": "python",
     "metadata": {},
     "outputs": []
    }
   ],
   "metadata": {}
  }
 ]
}