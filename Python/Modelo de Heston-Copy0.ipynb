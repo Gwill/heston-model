{
 "metadata": {
  "name": ""
 },
 "nbformat": 3,
 "nbformat_minor": 0,
 "worksheets": [
  {
   "cells": [
    {
     "cell_type": "heading",
     "level": 1,
     "metadata": {},
     "source": [
      "Modelo de Heston"
     ]
    },
    {
     "cell_type": "code",
     "collapsed": false,
     "input": [
      "%matplotlib inline\n",
      "import numpy as np\n",
      "import pandas as pd\n",
      "import matplotlib.pyplot as plt"
     ],
     "language": "python",
     "metadata": {},
     "outputs": [],
     "prompt_number": 4
    },
    {
     "cell_type": "heading",
     "level": 2,
     "metadata": {},
     "source": [
      "Processos Estoc\u00e1sticos para Ativos"
     ]
    },
    {
     "cell_type": "markdown",
     "metadata": {},
     "source": [
      "Uma abordagem simples e direta para a din\u00e2mica de um ativo financeiro \u00e9 considerar que a taxa de retorno do ativo \u00e9 Gaussiana e independente:\n",
      "\n",
      "In order to investigate the dynamics of asset prices we usually consider that they follow a Geometric Brownian Motion and the time evolution can be described by:\n",
      "\n",
      "$$\n",
      "\\begin{aligned}\n",
      "dS_t & = \\mu S_t dt + \\sigma S_t dW_t \\\\\\\\\n",
      "\\end{aligned}\n",
      "$$\n",
      "\n",
      "where $\\mu$ and $\\sigma$ represent the drift and diffusion terms, respectivelly.\n",
      "That equation's solution describes the dynamic of the price under study.\n",
      "\n",
      "$$\n",
      "S_t = S_0 \\exp\\left[ \\mu t - \\frac{\\sigma^2}{2} t + \\sigma W_t \\right]\n",
      "$$\n",
      "\n",
      "\n",
      "where we can easily see the impact regarding the drift and the diffusion associated to the stochastic component (the Wiener process $W_t$).\n",
      "Without a diffusion term, where $\\sigma = 0$, we would have a deterministic path to the asset value."
     ]
    },
    {
     "cell_type": "markdown",
     "metadata": {},
     "source": [
      "## Deterministic term\n",
      "\n",
      "The deterministic part appears when we have $\\sigma = 0$ and consequently the dynamic of a stock price turns into\n",
      "\n",
      "$$\n",
      "S_t = S_0 \\exp \\mu t \n",
      "$$\n",
      "\n",
      "So we can see that from a deterministic point of view the future value for an asset is fully determined by its drift term $\\mu$.\n",
      "Let's simulate for some values of $\\mu$ to observe how this parameter influence the price."
     ]
    },
    {
     "cell_type": "code",
     "collapsed": false,
     "input": [
      "p_t = lambda: p_0*np.exp(mu*t)\n",
      "\n",
      "p_0 = 100.0\n",
      "t = np.linspace(0, 1)\n",
      "\n",
      "mu = 0.02\n",
      "plt.plot(t, p_t())\n",
      "\n",
      "mu = 0.05\n",
      "plt.plot(t, p_t())\n",
      "\n",
      "mu = 0.1\n",
      "plt.plot(t, p_t())\n",
      "\n",
      "plt.grid(True)\n",
      "plt.xlabel('t')\n",
      "p = plt.ylabel('price')"
     ],
     "language": "python",
     "metadata": {},
     "outputs": [
      {
       "metadata": {},
       "output_type": "display_data",
       "png": "[encoded data removed]",
       "text": [
        "<matplotlib.figure.Figure at 0x10def4110>"
       ]
      }
     ],
     "prompt_number": 19
    },
    {
     "cell_type": "markdown",
     "metadata": {},
     "source": [
      "We observe that the high the drift, the higher $S_t$.\n",
      "The future value is compounded by the drift, so the drift is the asset's rate of return.\n",
      "It is important to mention that we are considering $t$ measured in years and consequently the drift $\\mu$ is an annual rate.\n",
      "\n",
      "In a risk neutral world we know that the future value of an asset is described by the following equation:\n",
      "\n",
      "$$\n",
      "S_t = S_0 \\exp(r-q)t\n",
      "$$\n",
      "\n",
      "where $r$ is the risk free rate and $q$ is the asset's dividend yield.\n",
      "Given that we have $\\mu = r - q$ that is a well known result which connects the stochastic calculus theory to the risk neutral world.\n",
      "That result is quite relevant, because in a deterministic scenario any expectation ofthe future value of an asset must equals its risk neutral estimate, due to non-arbitrage restrictions."
     ]
    },
    {
     "cell_type": "markdown",
     "metadata": {},
     "source": [
      "## Random term\n",
      "\n",
      "Instead, considering a process with no drift ($\\mu = 0$) we would obtain a log-normal variate at $t$.\n",
      "\n",
      "$$\n",
      "S_t = S_0 \\exp\\left[ - \\frac{\\sigma^2}{2} t + \\sigma W_t \\right] = S_0 \\exp\\left[ - \\frac{\\sigma^2}{2} t \\right] \\exp \\sigma W_t\n",
      "$$\n"
     ]
    },
    {
     "cell_type": "code",
     "collapsed": false,
     "input": [
      "p_t = lambda: p_0*np.exp(-t*sigma**2/2.0)*np.exp(sigma*np.sqrt(t)*w)\n",
      "\n",
      "plt.figure(1)\n",
      "t = 1.0/252\n",
      "p_0 = 100\n",
      "sigma = 0.1\n",
      "w = np.random.randn(1000)\n",
      "plt.xlim(90, 120)\n",
      "p = plt.hist(p_t(), 50)\n",
      "\n",
      "plt.figure(2)\n",
      "t = 1.0/12\n",
      "p_0 = 100\n",
      "sigma = 0.1\n",
      "w = np.random.randn(1000)\n",
      "plt.xlim(90, 120)\n",
      "p = plt.hist(p_t(), 50)\n",
      "\n",
      "plt.figure(3)\n",
      "t = 2.0/12\n",
      "p_0 = 100\n",
      "sigma = 0.1\n",
      "w = np.random.randn(1000)\n",
      "plt.xlim(90, 120)\n",
      "p = plt.hist(p_t(), 50)\n"
     ],
     "language": "python",
     "metadata": {},
     "outputs": [
      {
       "metadata": {},
       "output_type": "display_data",
       "png": "[encoded data removed]",
       "text": [
        "<matplotlib.figure.Figure at 0x10df14890>"
       ]
      },
      {
       "metadata": {},
       "output_type": "display_data",
       "png": "[encoded data removed]",
       "text": [
        "<matplotlib.figure.Figure at 0x10dd99a10>"
       ]
      },
      {
       "metadata": {},
       "output_type": "display_data",
       "png": "[encoded data removed]",
       "text": [
        "<matplotlib.figure.Figure at 0x10e17add0>"
       ]
      }
     ],
     "prompt_number": 32
    },
    {
     "cell_type": "markdown",
     "metadata": {},
     "source": [
      "Yeah, it is ok for now since those are well known results which are broadly used.\n",
      "The key point here is the strong assumption taken into account that both, drift and diffusion terms are constant over the time.\n",
      "We'll see an approach which increases the degrees of freedom by assuming that the diffusion term has its own dynamics.\n",
      "This kind of models are called Stochastic Volatility Models, because they consider a stochastic process for the diffusion term.\n",
      "\n",
      "## Heston Model\n",
      "\n",
      "Heston Model is a well known stochastic volatility model. It considers a mean reverting process for the variance.\n",
      "The asset dynamics is like that:\n",
      "\n",
      "\\\\[\n",
      "\\begin{aligned}\n",
      "dS_t & = \\mu S_t dt + \\sqrt{v_t} S_t dW_t \\\\\\\\\n",
      "dv_t & = \\lambda(\\bar{v} - v_t)dt + \\eta \\sqrt{v_t} dZ_t \\\\\\\\\n",
      "\\end{aligned}\n",
      "\\\\]\n",
      "\n",
      "with\n",
      "\n",
      "\\\\[\n",
      "\\langle dW_t, dZ_t \\rangle = \\rho dt\n",
      "\\\\]\n",
      "\n",
      "describing that there exists a correlation between the asset value and its volatility.\n",
      "Observe that $v_t$ represents the variance, not the volatility.\n",
      "And it is a mean reversion process."
     ]
    },
    {
     "cell_type": "code",
     "collapsed": false,
     "input": [
      "import _heston"
     ],
     "language": "python",
     "metadata": {},
     "outputs": [],
     "prompt_number": 1
    },
    {
     "cell_type": "code",
     "collapsed": false,
     "input": [
      "_heston.call()"
     ],
     "language": "python",
     "metadata": {},
     "outputs": [
      {
       "ename": "TypeError",
       "evalue": "function takes exactly 10 arguments (0 given)",
       "output_type": "pyerr",
       "traceback": [
        "\u001b[0;31m---------------------------------------------------------------------------\u001b[0m\n\u001b[0;31mTypeError\u001b[0m                                 Traceback (most recent call last)",
        "\u001b[0;32m<ipython-input-2-b1baa614349f>\u001b[0m in \u001b[0;36m<module>\u001b[0;34m()\u001b[0m\n\u001b[0;32m----> 1\u001b[0;31m \u001b[0m_heston\u001b[0m\u001b[0;34m.\u001b[0m\u001b[0mcall\u001b[0m\u001b[0;34m(\u001b[0m\u001b[0;34m)\u001b[0m\u001b[0;34m\u001b[0m\u001b[0m\n\u001b[0m",
        "\u001b[0;31mTypeError\u001b[0m: function takes exactly 10 arguments (0 given)"
       ]
      }
     ],
     "prompt_number": 2
    },
    {
     "cell_type": "code",
     "collapsed": false,
     "input": [
      "%run calibrateheston.py"
     ],
     "language": "python",
     "metadata": {},
     "outputs": [
      {
       "output_type": "stream",
       "stream": "stdout",
       "text": [
        "[  8.02779719e-02   3.48979668e-02   3.67324334e+01   5.35417900e+00\n",
        "   6.15562440e-01]\n"
       ]
      }
     ],
     "prompt_number": 4
    },
    {
     "cell_type": "code",
     "collapsed": false,
     "input": [
      "%who"
     ],
     "language": "python",
     "metadata": {},
     "outputs": [
      {
       "output_type": "stream",
       "stream": "stdout",
       "text": [
        "bsm\tfut_data\tfut_datafile\tfuts\thes\theston\theston_evaluate\ti\tk\t\n",
        "leastsq\tloadtxt\tnorm\tnp\tos\tp0\tparms\tplsq\tplt\t\n",
        "strikes\tsys\tterm\tterms\tvanilla\tvol_data\tvol_datafile\tvols\t\n"
       ]
      }
     ],
     "prompt_number": 5
    },
    {
     "cell_type": "code",
     "collapsed": false,
     "input": [
      "parms = plsq[0]\n",
      "\n",
      "import matplotlib.pyplot as plt\n",
      "\n",
      "hes = np.zeros(len(strikes))\n",
      "for i, k in enumerate(strikes):\n",
      "\thes[i] = _heston.ucall(futs[term], k, terms[term], parms[0], parms[1], parms[2], parms[3], parms[4])\n",
      "\n",
      "plt.plot(strikes, vanilla)"
     ],
     "language": "python",
     "metadata": {},
     "outputs": [
      {
       "metadata": {},
       "output_type": "pyout",
       "prompt_number": 6,
       "text": [
        "[<matplotlib.lines.Line2D at 0x109e40b50>]"
       ]
      }
     ],
     "prompt_number": 6
    },
    {
     "cell_type": "code",
     "collapsed": false,
     "input": [
      "plt.show()"
     ],
     "language": "python",
     "metadata": {},
     "outputs": [],
     "prompt_number": 7
    },
    {
     "cell_type": "code",
     "collapsed": false,
     "input": [
      "dict(a=1,b=2)"
     ],
     "language": "python",
     "metadata": {},
     "outputs": [
      {
       "metadata": {},
       "output_type": "pyout",
       "prompt_number": 8,
       "text": [
        "{'a': 1, 'b': 2}"
       ]
      }
     ],
     "prompt_number": 8
    },
    {
     "cell_type": "code",
     "collapsed": false,
     "input": [
      "import pandas as pd"
     ],
     "language": "python",
     "metadata": {},
     "outputs": [],
     "prompt_number": 9
    },
    {
     "cell_type": "code",
     "collapsed": false,
     "input": [
      "pd.DataFrame(data=plsq[0], index=['v', 'vbar', 'lambda', 'eta', 'rho'], columns=['parameters'])"
     ],
     "language": "python",
     "metadata": {},
     "outputs": [
      {
       "html": [
        "<div style=\"max-height:1000px;max-width:1500px;overflow:auto;\">\n",
        "<table border=\"1\" class=\"dataframe\">\n",
        "  <thead>\n",
        "    <tr style=\"text-align: right;\">\n",
        "      <th></th>\n",
        "      <th>parameters</th>\n",
        "    </tr>\n",
        "  </thead>\n",
        "  <tbody>\n",
        "    <tr>\n",
        "      <th>v</th>\n",
        "      <td>  0.080278</td>\n",
        "    </tr>\n",
        "    <tr>\n",
        "      <th>vbar</th>\n",
        "      <td>  0.034898</td>\n",
        "    </tr>\n",
        "    <tr>\n",
        "      <th>lambda</th>\n",
        "      <td> 36.732433</td>\n",
        "    </tr>\n",
        "    <tr>\n",
        "      <th>eta</th>\n",
        "      <td>  5.354179</td>\n",
        "    </tr>\n",
        "    <tr>\n",
        "      <th>rho</th>\n",
        "      <td>  0.615562</td>\n",
        "    </tr>\n",
        "  </tbody>\n",
        "</table>\n",
        "</div>"
       ],
       "metadata": {},
       "output_type": "pyout",
       "prompt_number": 20,
       "text": [
        "        parameters\n",
        "v         0.080278\n",
        "vbar      0.034898\n",
        "lambda   36.732433\n",
        "eta       5.354179\n",
        "rho       0.615562"
       ]
      }
     ],
     "prompt_number": 20
    },
    {
     "cell_type": "code",
     "collapsed": false,
     "input": [],
     "language": "python",
     "metadata": {},
     "outputs": [],
     "prompt_number": 20
    },
    {
     "cell_type": "code",
     "collapsed": false,
     "input": [],
     "language": "python",
     "metadata": {},
     "outputs": [],
     "prompt_number": 20
    },
    {
     "cell_type": "code",
     "collapsed": false,
     "input": [],
     "language": "python",
     "metadata": {},
     "outputs": []
    }
   ],
   "metadata": {}
  }
 ]
}